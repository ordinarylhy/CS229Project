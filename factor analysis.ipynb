{
 "cells": [
  {
   "cell_type": "code",
   "execution_count": 2,
   "metadata": {},
   "outputs": [],
   "source": [
    "import numpy as np\n",
    "import cvxpy as cp\n",
    "import pandas as pd\n",
    "import scipy\n",
    "from scipy import stats\n",
    "import torch\n",
    "import matplotlib.pyplot as plt\n",
    "\n",
    "import torch\n",
    "from torchvision.datasets.mnist import MNIST\n",
    "import torchvision.transforms as transforms\n",
    "\n",
    "from torch.distributions import Gamma, Normal, Bernoulli, MultivariateNormal, \\\n",
    "    TransformedDistribution\n",
    "from torch.distributions.transforms import PowerTransform\n",
    "\n",
    "from tqdm.auto import trange\n",
    "\n",
    "import numpy as np\n",
    "\n",
    "import matplotlib.pyplot as plt\n",
    "from matplotlib.cm import Blues\n",
    "import seaborn as sns\n",
    "sns.set_context(\"notebook\")\n",
    "import torch.nn as nn\n",
    "import torch.nn.functional as F\n",
    "import torch.optim as optim\n",
    "from torch.distributions import Normal, Bernoulli, Uniform\n",
    "from torch.distributions.kl import kl_divergence\n",
    "from torch.utils.data import Dataset, DataLoader\n",
    "\n",
    "import torchvision\n",
    "from torchvision.utils import make_grid\n",
    "from torchvision import datasets\n",
    "from torchvision.transforms import ToTensor\n",
    "import torchvision.transforms as transforms"
   ]
  },
  {
   "cell_type": "code",
   "execution_count": 349,
   "metadata": {},
   "outputs": [
    {
     "name": "stdout",
     "output_type": "stream",
     "text": [
      "Number of points in dataset: 60000\n",
      "Number of batches per epoch: 938\n"
     ]
    }
   ],
   "source": [
    "# Download MNIST dataset and create dataloaders. \n",
    "def binarize(imgs, integer=False):\n",
    "    threshold = 127 if integer else 0.5\n",
    "    imgs = imgs.clone()\n",
    "    imgs[imgs < threshold] = 0.\n",
    "    imgs[imgs >= threshold] = 1.\n",
    "    return imgs\n",
    "\n",
    "train_dataset = datasets.MNIST(root=\".\", train=True, download=True,\n",
    "                         transform=transforms.ToTensor())\n",
    "\n",
    "test_dataset = datasets.MNIST(root='.', train=False, download=True,\n",
    "                             transform=transforms.ToTensor())\n",
    "\n",
    "train_loader = DataLoader(train_dataset, batch_size=64, shuffle=True)\n",
    "test_loader = DataLoader(test_dataset, batch_size=64, shuffle=False)\n",
    "\n",
    "print(\"Number of points in dataset: {0}\".format(train_dataset.data.shape[0]))\n",
    "print(\"Number of batches per epoch: {0}\".format(len(train_loader)))"
   ]
  },
  {
   "cell_type": "code",
   "execution_count": 350,
   "metadata": {},
   "outputs": [],
   "source": [
    "# Download MNIST training data and convert to float32\n",
    "# Only use a subset of the images\n",
    "N = 10000\n",
    "X3d_true = MNIST(root='.', train=True, transform=None, download=True).data\n",
    "X3d_true = X3d_true.type(torch.float32)\n",
    "X3d_true = X3d_true[:N]\n",
    "_, H, W = X3d_true.shape"
   ]
  },
  {
   "cell_type": "code",
   "execution_count": 351,
   "metadata": {},
   "outputs": [],
   "source": [
    "# s is the latent dimension\n",
    "def FactorAnalysis(Y, s=2, num_iter=100):\n",
    "    N = Y.shape[0]\n",
    "    d = Y.shape[1]\n",
    "    # center the data matrix\n",
    "    X_bar = torch.mean(Y, axis=0)\n",
    "    X = Y - X_bar \n",
    "    \n",
    "    # randomly initialize Lambda and Phi\n",
    "    Lambda = torch.randn([d,s])\n",
    "    Phi = torch.diag(torch.abs(Normal(0,1).sample([d])))\n",
    "\n",
    "    for _ in range(num_iter):\n",
    "        G = torch.linalg.inv(torch.eye(s) + Lambda.T @ torch.linalg.inv(Phi) @ Lambda) # (s, s)\n",
    "        E_z = torch.einsum('sd,Nd->Ns', G @ Lambda.T @ torch.linalg.inv(Phi), X) # (N, s)\n",
    "        E_z_zT = N * G + torch.einsum('Ns,Nr->sr', E_z, E_z) #(s, s)\n",
    "        Lambda = torch.linalg.solve(E_z_zT, X.T @ E_z, left=False) # XA = B (d, s)\n",
    "        Phi = torch.diag(torch.diag(X.T @ X - Lambda @ E_z.T @ X) / N + 1e-4) #(d, d)\n",
    "    return Lambda, Phi"
   ]
  },
  {
   "cell_type": "code",
   "execution_count": 352,
   "metadata": {},
   "outputs": [],
   "source": [
    "X_true = X3d_true.reshape((N, -1))"
   ]
  },
  {
   "cell_type": "code",
   "execution_count": 353,
   "metadata": {},
   "outputs": [],
   "source": [
    "s=4\n",
    "a,b= FactorAnalysis(X_true,s=s)"
   ]
  },
  {
   "cell_type": "code",
   "execution_count": 354,
   "metadata": {},
   "outputs": [],
   "source": [
    "num_samples = 64\n",
    "z = torch.randn(num_samples, s)\n",
    "k = torch.einsum('ds,ns->nd', a, z) + torch.mean(X_true, axis=0)"
   ]
  },
  {
   "cell_type": "code",
   "execution_count": 355,
   "metadata": {},
   "outputs": [
    {
     "name": "stderr",
     "output_type": "stream",
     "text": [
      "Clipping input data to the valid range for imshow with RGB data ([0..1] for floats or [0..255] for integers).\n"
     ]
    },
    {
     "data": {
      "image/png": "[encoded data removed]",
      "text/plain": [
       "<Figure size 1000x1000 with 1 Axes>"
      ]
     },
     "metadata": {},
     "output_type": "display_data"
    }
   ],
   "source": [
    "expected_xs = X_true[:64].reshape(-1, 28, 28).unsqueeze(1)\n",
    "\n",
    "# Plot the expected_xs as a grid of images\n",
    "expected_xs_grid = make_grid(expected_xs, nrow=8)\n",
    "plt.figure(figsize=(10,10))\n",
    "plt.axis('off')\n",
    "plt.imshow(expected_xs_grid.permute(1, 2, 0), vmin=0., vmax=1.)\n",
    "plt.show()"
   ]
  },
  {
   "cell_type": "code",
   "execution_count": 364,
   "metadata": {},
   "outputs": [],
   "source": [
    "def binarize(imgs, integer=False):\n",
    "    threshold = 90\n",
    "    imgs = imgs.clone()\n",
    "    imgs[imgs < threshold] = 0.\n",
    "    imgs[imgs >= threshold] = 1.\n",
    "    return imgs"
   ]
  },
  {
   "cell_type": "code",
   "execution_count": 366,
   "metadata": {},
   "outputs": [
    {
     "data": {
      "text/plain": [
       "Text(0.5, 0.98, 'factor analysis generated images')"
      ]
     },
     "execution_count": 366,
     "metadata": {},
     "output_type": "execute_result"
    },
    {
     "data": {
      "image/png": "[encoded data removed]",
      "text/plain": [
       "<Figure size 1200x200 with 24 Axes>"
      ]
     },
     "metadata": {},
     "output_type": "display_data"
    }
   ],
   "source": [
    "fig, axs = plt.subplots(2, 12, figsize=(12, 2))\n",
    "for i in range(2):\n",
    "    for j in range(12):\n",
    "        axs[i, j].imshow(binarize(k.reshape(-1,28,28)[i * 5 + j]), interpolation=\"none\", cmap='gray')\n",
    "        axs[i, j].set_xticks([])\n",
    "        axs[i, j].set_yticks([])\n",
    "fig.suptitle(\"factor analysis generated images\")"
   ]
  },
  {
   "cell_type": "code",
   "execution_count": 127,
   "metadata": {},
   "outputs": [],
   "source": [
    "# Interpolate between 8 randomly chosen start and end points\n",
    "latent_starts = torch.randn(8, s)\n",
    "latent_ends = torch.randn(8, s)\n",
    "\n",
    "means = []\n",
    "for t in torch.linspace(0, 1, 10):\n",
    "    z = latent_starts + t * (latent_ends - latent_starts)\n",
    "\n",
    "    k = torch.einsum('ds,ns->nd', a, z) + torch.mean(X_true, axis=0)\n",
    "    means.append(k.reshape(-1, 28, 28).unsqueeze(0))\n",
    "\n",
    "means_tensor = torch.vstack(means).permute(1, 0, 2, 3).reshape(-1, 28, 28).unsqueeze(1)\n"
   ]
  },
  {
   "cell_type": "code",
   "execution_count": 320,
   "metadata": {},
   "outputs": [
    {
     "data": {
      "text/plain": [
       "Text(0.5, 0.98, 'factor analysis interpolated images')"
      ]
     },
     "execution_count": 320,
     "metadata": {},
     "output_type": "execute_result"
    },
    {
     "data": {
      "image/png": "[encoded data removed]",
      "text/plain": [
       "<Figure size 2000x1600 with 80 Axes>"
      ]
     },
     "metadata": {},
     "output_type": "display_data"
    }
   ],
   "source": [
    "sample_grid = make_grid(means_tensor, nrow=10)\n",
    "fig, axs = plt.subplots(8, 10, figsize=(20, 16))\n",
    "for i in range(8):\n",
    "    for j in range(10):\n",
    "        axs[i, j].imshow(binarize(means_tensor.reshape(-1,28,28)[i * 10 + j]), interpolation=\"none\", cmap='gray')\n",
    "        axs[i, j].set_xticks([])\n",
    "        axs[i, j].set_yticks([])\n",
    "fig.suptitle(\"factor analysis interpolated images\")"
   ]
  },
  {
   "cell_type": "code",
   "execution_count": 238,
   "metadata": {},
   "outputs": [],
   "source": [
    "def pca(X):\n",
    "    \"\"\"\n",
    "    Compute the principal components and the fraction of variance explained \n",
    "    using the SVD of the scaled and centered data matrix. \n",
    "\n",
    "    Args:\n",
    "        X: a shape (N, D) tensor\n",
    "\n",
    "    Returns:\n",
    "        pcs: a shape (D, D) tensor whose columns are the full set of D principal\n",
    "            components. This matrix should be orthogonal.\n",
    "\n",
    "        var_explained: a shape (D,) tensor whose entries are the variance \n",
    "            explained by each corresponding principal component.\n",
    "    \"\"\"\n",
    "    ## \n",
    "    # Your code below.\n",
    "    N = X.shape[0]\n",
    "    X_bar = torch.mean(X, axis=0)\n",
    "    Y = (X - X_bar) / np.sqrt(N)\n",
    "    V, singular_values, UT = torch.linalg.svd(Y)\n",
    "    eigenvalues = singular_values ** 2\n",
    "    pcs = UT.T\n",
    "    var_explained = eigenvalues / sum(eigenvalues)\n",
    "    ##\n",
    "    return pcs, var_explained, eigenvalues"
   ]
  },
  {
   "cell_type": "code",
   "execution_count": 239,
   "metadata": {},
   "outputs": [],
   "source": [
    "pcs, uafar, eigsg = pca(X_true)"
   ]
  },
  {
   "cell_type": "code",
   "execution_count": 243,
   "metadata": {},
   "outputs": [
    {
     "data": {
      "text/plain": [
       "tensor([591.5084, 497.4985, 457.8336, 431.0073])"
      ]
     },
     "execution_count": 243,
     "metadata": {},
     "output_type": "execute_result"
    }
   ],
   "source": [
    "torch.sqrt(eigsg[:4])"
   ]
  },
  {
   "cell_type": "code",
   "execution_count": 169,
   "metadata": {},
   "outputs": [
    {
     "data": {
      "text/plain": [
       "torch.Size([784, 784])"
      ]
     },
     "execution_count": 169,
     "metadata": {},
     "output_type": "execute_result"
    }
   ],
   "source": [
    "pcs.shape"
   ]
  },
  {
   "cell_type": "code",
   "execution_count": 214,
   "metadata": {},
   "outputs": [],
   "source": [
    "u,sig,vt = torch.linalg.svd(a)"
   ]
  },
  {
   "cell_type": "code",
   "execution_count": 242,
   "metadata": {},
   "outputs": [
    {
     "data": {
      "text/plain": [
       "tensor([543.9537, 465.3731, 425.6534, 401.6326])"
      ]
     },
     "execution_count": 242,
     "metadata": {},
     "output_type": "execute_result"
    }
   ],
   "source": [
    "sig"
   ]
  },
  {
   "cell_type": "code",
   "execution_count": 244,
   "metadata": {},
   "outputs": [
    {
     "data": {
      "text/plain": [
       "tensor(0.1476)"
      ]
     },
     "execution_count": 244,
     "metadata": {},
     "output_type": "execute_result"
    }
   ],
   "source": [
    "torch.sqrt(torch.sum((torch.log(torch.sqrt(eigsg[:4])) - torch.log(sig)) ** 2))"
   ]
  },
  {
   "cell_type": "code",
   "execution_count": 307,
   "metadata": {},
   "outputs": [
    {
     "data": {
      "text/plain": [
       "tensor(7.3608)"
      ]
     },
     "execution_count": 307,
     "metadata": {},
     "output_type": "execute_result"
    }
   ],
   "source": [
    "torch.sqrt(torch.sum((torch.log(torch.sqrt(eigsg[:4])) - torch.log(sig2[:4])) ** 2))"
   ]
  },
  {
   "cell_type": "code",
   "execution_count": 289,
   "metadata": {},
   "outputs": [
    {
     "data": {
      "text/plain": [
       "tensor([[  3.,   0.,   0.,  ..., 166.,   0.,   0.],\n",
       "        [  0.,   0.,   0.,  ...,   0.,   0.,   0.],\n",
       "        [  0.,   0.,   0.,  ...,   0.,   0.,   0.],\n",
       "        ...,\n",
       "        [  0.,   0.,   0.,  ...,  15.,   0.,   0.],\n",
       "        [  0.,   0.,   0.,  ...,   0.,   0.,   0.],\n",
       "        [  0.,   0.,   0.,  ...,   0.,   0., 252.]])"
      ]
     },
     "execution_count": 289,
     "metadata": {},
     "output_type": "execute_result"
    }
   ],
   "source": [
    "X_permuted=X_true\n",
    "for i in range(10000):\n",
    "    X_permuted[i] = X_true[i][torch.randperm(X_true.size()[1])]\n",
    "X_permuted"
   ]
  },
  {
   "cell_type": "code",
   "execution_count": 290,
   "metadata": {},
   "outputs": [
    {
     "data": {
      "text/plain": [
       "tensor([302.8154,  75.6619,  63.5636,  63.3529])"
      ]
     },
     "execution_count": 290,
     "metadata": {},
     "output_type": "execute_result"
    }
   ],
   "source": [
    "araer, _ = FactorAnalysis(X_permuted,s=s)\n",
    "_,sig2,_ = torch.linalg.svd(araer)\n",
    "sig2"
   ]
  },
  {
   "cell_type": "code",
   "execution_count": 311,
   "metadata": {},
   "outputs": [
    {
     "data": {
      "text/plain": [
       "tensor(7.2389)"
      ]
     },
     "execution_count": 311,
     "metadata": {},
     "output_type": "execute_result"
    }
   ],
   "source": [
    "torch.linalg.norm(pcs[:,:4] @ pcs[:,:4].T - a @ a.T @ torch.linalg.inv(a @ a.T + b))"
   ]
  },
  {
   "cell_type": "code",
   "execution_count": 314,
   "metadata": {},
   "outputs": [
    {
     "data": {
      "text/plain": [
       "tensor(7.4057)"
      ]
     },
     "execution_count": 314,
     "metadata": {},
     "output_type": "execute_result"
    }
   ],
   "source": [
    "torch.linalg.norm(a @ a.T @ torch.linalg.inv(a @ a.T + b))"
   ]
  },
  {
   "cell_type": "code",
   "execution_count": 304,
   "metadata": {},
   "outputs": [
    {
     "data": {
      "text/plain": [
       "torch.Size([10000, 784])"
      ]
     },
     "execution_count": 304,
     "metadata": {},
     "output_type": "execute_result"
    }
   ],
   "source": [
    "t=Normal(torch.mean(X_true,axis=0),torch.var(X_true,axis=0)**0.5).sample([10000])\n",
    "t.shape"
   ]
  },
  {
   "cell_type": "code",
   "execution_count": 305,
   "metadata": {},
   "outputs": [
    {
     "data": {
      "text/plain": [
       "tensor([94048.0391, 10079.5605, 10047.0020, 10016.3311])"
      ]
     },
     "execution_count": 305,
     "metadata": {},
     "output_type": "execute_result"
    }
   ],
   "source": [
    "_,sig2,_ = torch.linalg.svd(t)\n",
    "sig2[:4]"
   ]
  },
  {
   "cell_type": "code",
   "execution_count": 185,
   "metadata": {},
   "outputs": [],
   "source": [
    "def dist(x, y):\n",
    "    _,sig1,_ = torch.linalg.svd(x)\n",
    "    _,sig2,_ = torch.linalg.svd(y)\n",
    "    return torch.sqrt(torch.sum((torch.log(sig1) - torch.log(sig2)) ** 2))"
   ]
  },
  {
   "cell_type": "code",
   "execution_count": 228,
   "metadata": {},
   "outputs": [
    {
     "data": {
      "text/plain": [
       "tensor(7.3967e-07)"
      ]
     },
     "execution_count": 228,
     "metadata": {},
     "output_type": "execute_result"
    }
   ],
   "source": [
    "dist(u[:,:4],pcs[:,:4])"
   ]
  },
  {
   "cell_type": "code",
   "execution_count": 230,
   "metadata": {},
   "outputs": [
    {
     "data": {
      "text/plain": [
       "tensor(6.7207)"
      ]
     },
     "execution_count": 230,
     "metadata": {},
     "output_type": "execute_result"
    }
   ],
   "source": [
    "dist(pcs[:,:4],torch.randn(784,4))"
   ]
  }
 ],
 "metadata": {
  "kernelspec": {
   "display_name": "Python 3.9.6 64-bit",
   "language": "python",
   "name": "python3"
  },
  "language_info": {
   "codemirror_mode": {
    "name": "ipython",
    "version": 3
   },
   "file_extension": ".py",
   "mimetype": "text/x-python",
   "name": "python",
   "nbconvert_exporter": "python",
   "pygments_lexer": "ipython3",
   "version": "3.10.9"
  },
  "orig_nbformat": 4,
  "vscode": {
   "interpreter": {
    "hash": "31f2aee4e71d21fbe5cf8b01ff0e069b9275f58929596ceb00d14d90e3e16cd6"
   }
  }
 },
 "nbformat": 4,
 "nbformat_minor": 2
}
